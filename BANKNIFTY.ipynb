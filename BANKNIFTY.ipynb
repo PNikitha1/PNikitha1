{
  "nbformat": 4,
  "nbformat_minor": 0,
  "metadata": {
    "colab": {
      "provenance": []
    },
    "kernelspec": {
      "name": "python3",
      "display_name": "Python 3"
    },
    "language_info": {
      "name": "python"
    }
  },
  "cells": [
    {
      "cell_type": "code",
      "source": [
        "import pandas as pd\n",
        "from datetime import *"
      ],
      "metadata": {
        "id": "lXiP5sCCdL2w"
      },
      "execution_count": null,
      "outputs": []
    },
    {
      "cell_type": "code",
      "source": [
        "from google.colab import drive\n",
        "drive.mount('/content/drive')"
      ],
      "metadata": {
        "colab": {
          "base_uri": "https://localhost:8080/"
        },
        "id": "YDvWteBwdQQW",
        "outputId": "2aaa7d81-2a17-4397-8760-c162720b51db"
      },
      "execution_count": null,
      "outputs": [
        {
          "output_type": "stream",
          "name": "stdout",
          "text": [
            "Drive already mounted at /content/drive; to attempt to forcibly remount, call drive.mount(\"/content/drive\", force_remount=True).\n"
          ]
        }
      ]
    },
    {
      "cell_type": "code",
      "source": [
        "data= pd.read_csv('/content/drive/MyDrive/BANKNIFTY.csv')"
      ],
      "metadata": {
        "id": "h5wS0gCvdhDo"
      },
      "execution_count": null,
      "outputs": []
    },
    {
      "cell_type": "code",
      "source": [
        "data.columns"
      ],
      "metadata": {
        "colab": {
          "base_uri": "https://localhost:8080/"
        },
        "id": "-xAWzRnSgBpB",
        "outputId": "5a9029d5-20e3-408d-9326-b4f0d51baffc"
      },
      "execution_count": null,
      "outputs": [
        {
          "output_type": "execute_result",
          "data": {
            "text/plain": [
              "Index(['Symbol', 'Date', 'Time', 'Open', 'High', 'Low', 'Close', 'Volume',\n",
              "       'Open Interest'],\n",
              "      dtype='object')"
            ]
          },
          "metadata": {},
          "execution_count": 31
        }
      ]
    },
    {
      "cell_type": "code",
      "source": [
        "data.head"
      ],
      "metadata": {
        "colab": {
          "base_uri": "https://localhost:8080/"
        },
        "id": "STYm1o4ddo4G",
        "outputId": "b0f430ed-9d0b-4d6a-cafa-56907cf96163"
      },
      "execution_count": null,
      "outputs": [
        {
          "output_type": "execute_result",
          "data": {
            "text/plain": [
              "<bound method NDFrame.head of           Symbol        Date                Time     Open     High      Low  \\\n",
              "0      BANKNIFTY  2020/01/01 1900-01-01 09:16:00  32242.6  32295.8  32220.9   \n",
              "1      BANKNIFTY  2020/01/01 1900-01-01 09:17:00  32296.3  32303.3  32283.9   \n",
              "2      BANKNIFTY  2020/01/01 1900-01-01 09:18:00  32288.3  32290.8  32279.3   \n",
              "3      BANKNIFTY  2020/01/01 1900-01-01 09:19:00  32282.9  32296.3  32270.7   \n",
              "4      BANKNIFTY  2020/01/01 1900-01-01 09:20:00  32292.4  32312.1  32292.4   \n",
              "...          ...         ...                 ...      ...      ...      ...   \n",
              "94543  BANKNIFTY  2020/12/31 1900-01-01 15:28:00  31236.2  31262.4  31232.3   \n",
              "94544  BANKNIFTY  2020/12/31 1900-01-01 15:29:00  31264.8  31267.4  31240.8   \n",
              "94545  BANKNIFTY  2020/12/31 1900-01-01 15:30:00  31255.6  31264.0  31230.6   \n",
              "94546  BANKNIFTY  2020/12/31 1900-01-01 15:31:00  31241.2  31241.2  31241.2   \n",
              "94547  BANKNIFTY  2020/12/31 1900-01-01 15:32:00  31264.1  31264.1  31264.1   \n",
              "\n",
              "         Close  Volume  Open Interest  \n",
              "0      32292.0       0              0  \n",
              "1      32286.4       0              0  \n",
              "2      32279.6       0              0  \n",
              "3      32292.6       0              0  \n",
              "4      32300.9       0              0  \n",
              "...        ...     ...            ...  \n",
              "94543  31255.8       0              0  \n",
              "94544  31251.6       0              0  \n",
              "94545  31237.8       0              0  \n",
              "94546  31241.2       0              0  \n",
              "94547  31264.1       0              0  \n",
              "\n",
              "[94548 rows x 9 columns]>"
            ]
          },
          "metadata": {},
          "execution_count": 32
        }
      ]
    },
    {
      "cell_type": "code",
      "source": [
        "\n",
        "data['Time'] = pd.to_datetime(data['Time'], format='%H:%M')\n",
        "\n",
        "# Extract the first 15 minutes data (9:15 am to 9:30 am)\n",
        "first_15_min_data = data[(data['Time'] >= '09:15') & (data['Time'] <= '09:30')]\n",
        "\n",
        "# Calculate the high and low for the first 15 minutes\n",
        "high_15_min = first_15_min_data['High'].max()\n",
        "low_15_min = first_15_min_data['Low'].min()\n",
        "\n",
        "# Initialize variables\n",
        "buy_price = 0\n",
        "sell_price = 0\n",
        "stop_loss = 0  # Add this line to initialize stop_loss\n",
        "stop_loss_pct = 0.005  # 0.5% stop loss\n",
        "\n",
        "# Initialize variables for profit and loss\n",
        "profit_loss = 0\n",
        "\n",
        "# Iterate through the data\n",
        "for index, row in data.iterrows():\n",
        "    # Check if the high is crossed\n",
        "    if row['High'] > high_15_min and buy_price == 0:\n",
        "        buy_price = row['High']\n",
        "        stop_loss = buy_price - (buy_price * stop_loss_pct)\n",
        "\n",
        "    # Check if the low is crossed\n",
        "    elif row['Low'] < low_15_min and sell_price == 0:\n",
        "        sell_price = row['Low']\n",
        "\n",
        "    # Check for stop loss\n",
        "    if row['Low'] <= stop_loss and buy_price != 0:\n",
        "        profit_loss += stop_loss - buy_price\n",
        "        break  # Exit the loop\n",
        "\n",
        "    # Square off the position at 3:15 pm\n",
        "    if row['Time'] == pd.to_datetime('15:15'):\n",
        "        if buy_price != 0:\n",
        "            profit_loss += row['Close'] - buy_price\n",
        "        elif sell_price != 0:\n",
        "            profit_loss += sell_price - row['Close']\n",
        "        break  # Exit the loop\n",
        "\n",
        "# Print the profit and loss\n",
        "print(f\"Profit/Loss for 2020: {profit_loss}\")\n"
      ],
      "metadata": {
        "colab": {
          "base_uri": "https://localhost:8080/"
        },
        "id": "hmG7kg-bgAFD",
        "outputId": "bac15517-245c-43bf-97bd-56b4330dd160"
      },
      "execution_count": null,
      "outputs": [
        {
          "output_type": "stream",
          "name": "stdout",
          "text": [
            "Profit/Loss for 2020: 0\n"
          ]
        }
      ]
    },
    {
      "cell_type": "code",
      "source": [
        "df= pd.read_csv('/content/drive/MyDrive/NIFTY.csv')"
      ],
      "metadata": {
        "id": "3LyP6zibheQs"
      },
      "execution_count": null,
      "outputs": []
    },
    {
      "cell_type": "code",
      "source": [
        "df.columns"
      ],
      "metadata": {
        "colab": {
          "base_uri": "https://localhost:8080/"
        },
        "id": "Rgpo8an_iaPx",
        "outputId": "148858e5-5dd1-4489-bc2b-f5bfe136d7b2"
      },
      "execution_count": null,
      "outputs": [
        {
          "output_type": "execute_result",
          "data": {
            "text/plain": [
              "Index(['Symbol', 'Date', 'Time', 'Open', 'High', 'Low', 'Close', 'Volume',\n",
              "       'Open Intrest'],\n",
              "      dtype='object')"
            ]
          },
          "metadata": {},
          "execution_count": 36
        }
      ]
    },
    {
      "cell_type": "code",
      "source": [
        "df.head"
      ],
      "metadata": {
        "colab": {
          "base_uri": "https://localhost:8080/"
        },
        "id": "az9rcCApifnE",
        "outputId": "9cacb37a-0c17-4c7f-f312-757cbe12beb5"
      },
      "execution_count": null,
      "outputs": [
        {
          "output_type": "execute_result",
          "data": {
            "text/plain": [
              "<bound method NDFrame.head of       Symbol        Date   Time     Open     High      Low    Close  Volume  \\\n",
              "0      NIFTY  2020/01/01  09:16  12204.5  12216.3  12201.5  12215.1       0   \n",
              "1      NIFTY  2020/01/01  09:17  12215.5  12216.5  12205.7  12206.8       0   \n",
              "2      NIFTY  2020/01/01  09:18  12206.5  12207.4  12202.7  12202.7       0   \n",
              "3      NIFTY  2020/01/01  09:19  12203.5  12208.4  12201.2  12207.8       0   \n",
              "4      NIFTY  2020/01/01  09:20  12208.3  12213.2  12207.7  12212.5       0   \n",
              "...      ...         ...    ...      ...      ...      ...      ...     ...   \n",
              "94628  NIFTY  2020/12/31  15:28  13977.9  13981.5  13977.9  13978.5       0   \n",
              "94629  NIFTY  2020/12/31  15:29  13980.2  13980.5  13966.2  13967.4       0   \n",
              "94630  NIFTY  2020/12/31  15:30  13968.7  13971.1  13965.2  13967.0       0   \n",
              "94631  NIFTY  2020/12/31  15:31  13967.2  13967.2  13967.2  13967.2       0   \n",
              "94632  NIFTY  2020/12/31  15:32  13981.8  13981.8  13981.8  13981.8       0   \n",
              "\n",
              "       Open Intrest  \n",
              "0                 0  \n",
              "1                 0  \n",
              "2                 0  \n",
              "3                 0  \n",
              "4                 0  \n",
              "...             ...  \n",
              "94628             0  \n",
              "94629             0  \n",
              "94630             0  \n",
              "94631             0  \n",
              "94632             0  \n",
              "\n",
              "[94633 rows x 9 columns]>"
            ]
          },
          "metadata": {},
          "execution_count": 37
        }
      ]
    },
    {
      "cell_type": "code",
      "source": [
        "df['Time'] = pd.to_datetime(df['Time'], format='%H:%M')\n",
        "\n",
        "# Extract the first 15 minutes data (9:15 am to 9:30 am)\n",
        "first_15_min_data = df[(df['Time'] >= '09:15') & (df['Time'] <= '09:30')]\n",
        "\n",
        "# Calculate the high and low for the first 15 minutes\n",
        "high_15_min = first_15_min_data['High'].max()\n",
        "low_15_min = first_15_min_data['Low'].min()\n",
        "\n",
        "# Initialize variables\n",
        "buy_price = 0\n",
        "sell_price = 0\n",
        "stop_loss = 0  # Add this line to initialize stop_loss\n",
        "stop_loss_pct = 0.005  # 0.5% stop loss\n",
        "\n",
        "# Initialize variables for profit and loss\n",
        "profit_loss = 0\n",
        "\n",
        "# Iterate through the data\n",
        "for index, row in data.iterrows():\n",
        "    # Check if the high is crossed\n",
        "    if row['High'] > high_15_min and buy_price == 0:\n",
        "        buy_price = row['High']\n",
        "        stop_loss = buy_price - (buy_price * stop_loss_pct)\n",
        "\n",
        "    # Check if the low is crossed\n",
        "    elif row['Low'] < low_15_min and sell_price == 0:\n",
        "        sell_price = row['Low']\n",
        "\n",
        "    # Check for stop loss\n",
        "    if row['Low'] <= stop_loss and buy_price != 0:\n",
        "        profit_loss += stop_loss - buy_price\n",
        "        break  # Exit the loop\n",
        "\n",
        "    # Square off the position at 3:15 pm\n",
        "    if row['Time'] == pd.to_datetime('15:15'):\n",
        "        if buy_price != 0:\n",
        "            profit_loss += row['Close'] - buy_price\n",
        "        elif sell_price != 0:\n",
        "            profit_loss += sell_price - row['Close']\n",
        "        break  # Exit the loop\n",
        "\n",
        "# Print the profit and loss\n",
        "print(f\"Profit/Loss for 2020: {profit_loss}\")"
      ],
      "metadata": {
        "colab": {
          "base_uri": "https://localhost:8080/"
        },
        "id": "pkf9THYSioMC",
        "outputId": "b3a07f93-840c-45fd-be2e-f87fe72ec8f0"
      },
      "execution_count": null,
      "outputs": [
        {
          "output_type": "stream",
          "name": "stdout",
          "text": [
            "Profit/Loss for 2020: 0\n"
          ]
        }
      ]
    }
  ]
}